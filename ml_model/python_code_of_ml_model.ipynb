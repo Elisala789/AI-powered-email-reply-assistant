{
  "nbformat": 4,
  "nbformat_minor": 0,
  "metadata": {
    "colab": {
      "provenance": []
    },
    "kernelspec": {
      "name": "python3",
      "display_name": "Python 3"
    },
    "language_info": {
      "name": "python"
    }
  },
  "cells": [
    {
      "cell_type": "code",
      "execution_count": 3,
      "metadata": {
        "colab": {
          "base_uri": "https://localhost:8080/"
        },
        "id": "6k96zCdhTjAy",
        "outputId": "9a0c570e-7e9d-4b9c-b246-84d2be446d41"
      },
      "outputs": [
        {
          "output_type": "stream",
          "name": "stdout",
          "text": [
            "Accuracy: 0.99\n",
            "Model saved as spam_model.pkl\n"
          ]
        }
      ],
      "source": [
        "import pandas as pd\n",
        "from sklearn.model_selection import train_test_split\n",
        "from sklearn.feature_extraction.text import CountVectorizer\n",
        "from sklearn.naive_bayes import MultinomialNB\n",
        "from sklearn.pipeline import Pipeline\n",
        "from sklearn.metrics import accuracy_score\n",
        "import joblib\n",
        "\n",
        "# Load uploaded file\n",
        "df = pd.read_csv('/content/sample_data/spam.csv', encoding='latin-1')\n",
        "df = df.rename(columns={'v1': 'label', 'v2': 'text'})\n",
        "df = df[['label', 'text']]\n",
        "df['label'] = df['label'].map({'ham': 0, 'spam': 1})\n",
        "\n",
        "X_train, X_test, y_train, y_test = train_test_split(df['text'], df['label'], test_size=0.2)\n",
        "\n",
        "model = Pipeline([\n",
        "    ('vectorizer', CountVectorizer()),\n",
        "    ('classifier', MultinomialNB())\n",
        "])\n",
        "\n",
        "model.fit(X_train, y_train)\n",
        "\n",
        "y_pred = model.predict(X_test)\n",
        "print(f\"Accuracy: {accuracy_score(y_test, y_pred):.2f}\")\n",
        "\n",
        "joblib.dump(model, 'spam_model.pkl')\n",
        "print(\"Model saved as spam_model.pkl\")\n"
      ]
    },
    {
      "cell_type": "code",
      "source": [
        "from google.colab import files\n",
        "files.download('spam_model.pkl')\n"
      ],
      "metadata": {
        "colab": {
          "base_uri": "https://localhost:8080/",
          "height": 17
        },
        "id": "h-3roLThUSQd",
        "outputId": "1423828d-e6b5-42fb-e943-5e78b59f595b"
      },
      "execution_count": 4,
      "outputs": [
        {
          "output_type": "display_data",
          "data": {
            "text/plain": [
              "<IPython.core.display.Javascript object>"
            ],
            "application/javascript": [
              "\n",
              "    async function download(id, filename, size) {\n",
              "      if (!google.colab.kernel.accessAllowed) {\n",
              "        return;\n",
              "      }\n",
              "      const div = document.createElement('div');\n",
              "      const label = document.createElement('label');\n",
              "      label.textContent = `Downloading \"${filename}\": `;\n",
              "      div.appendChild(label);\n",
              "      const progress = document.createElement('progress');\n",
              "      progress.max = size;\n",
              "      div.appendChild(progress);\n",
              "      document.body.appendChild(div);\n",
              "\n",
              "      const buffers = [];\n",
              "      let downloaded = 0;\n",
              "\n",
              "      const channel = await google.colab.kernel.comms.open(id);\n",
              "      // Send a message to notify the kernel that we're ready.\n",
              "      channel.send({})\n",
              "\n",
              "      for await (const message of channel.messages) {\n",
              "        // Send a message to notify the kernel that we're ready.\n",
              "        channel.send({})\n",
              "        if (message.buffers) {\n",
              "          for (const buffer of message.buffers) {\n",
              "            buffers.push(buffer);\n",
              "            downloaded += buffer.byteLength;\n",
              "            progress.value = downloaded;\n",
              "          }\n",
              "        }\n",
              "      }\n",
              "      const blob = new Blob(buffers, {type: 'application/binary'});\n",
              "      const a = document.createElement('a');\n",
              "      a.href = window.URL.createObjectURL(blob);\n",
              "      a.download = filename;\n",
              "      div.appendChild(a);\n",
              "      a.click();\n",
              "      div.remove();\n",
              "    }\n",
              "  "
            ]
          },
          "metadata": {}
        },
        {
          "output_type": "display_data",
          "data": {
            "text/plain": [
              "<IPython.core.display.Javascript object>"
            ],
            "application/javascript": [
              "download(\"download_029d385d-1596-4606-99d9-3641da81c2fc\", \"spam_model.pkl\", 339037)"
            ]
          },
          "metadata": {}
        }
      ]
    },
    {
      "cell_type": "code",
      "source": [
        "import joblib\n",
        "\n",
        "# Load the saved model\n",
        "loaded_model = joblib.load('spam_model.pkl')\n",
        "\n",
        "# Test some sample emails\n",
        "test_emails = [\n",
        "    \"Congratulations! You've won a $1000 Walmart gift card. Click here to claim.\",\n",
        "    \"Hey, just wanted to check in about our meeting tomorrow.\",\n",
        "    \"FREE entry in a weekly competition to win tickets to the Bahamas!\",\n",
        "    \"Reminder: Your electricity bill is due tomorrow.\",\n",
        "    \"Win a brand new car! Limited offer, apply now!\"\n",
        "]\n",
        "\n",
        "# Make predictions\n",
        "predictions = loaded_model.predict(test_emails)\n",
        "\n",
        "# Print results\n",
        "for email, pred in zip(test_emails, predictions):\n",
        "    print(f\"\\nEmail: {email}\\nPrediction: {'SPAM' if pred == 1 else 'NOT SPAM'}\")\n"
      ],
      "metadata": {
        "colab": {
          "base_uri": "https://localhost:8080/"
        },
        "id": "7H7QVVc6Vgtg",
        "outputId": "faffa085-631c-4cf8-d76e-43c8238383ee"
      },
      "execution_count": 5,
      "outputs": [
        {
          "output_type": "stream",
          "name": "stdout",
          "text": [
            "\n",
            "Email: Congratulations! You've won a $1000 Walmart gift card. Click here to claim.\n",
            "Prediction: SPAM\n",
            "\n",
            "Email: Hey, just wanted to check in about our meeting tomorrow.\n",
            "Prediction: NOT SPAM\n",
            "\n",
            "Email: FREE entry in a weekly competition to win tickets to the Bahamas!\n",
            "Prediction: SPAM\n",
            "\n",
            "Email: Reminder: Your electricity bill is due tomorrow.\n",
            "Prediction: NOT SPAM\n",
            "\n",
            "Email: Win a brand new car! Limited offer, apply now!\n",
            "Prediction: SPAM\n"
          ]
        }
      ]
    }
  ]
}